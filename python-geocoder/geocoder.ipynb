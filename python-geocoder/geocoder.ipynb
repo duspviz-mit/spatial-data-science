{
 "cells": [
  {
   "cell_type": "markdown",
   "metadata": {},
   "source": [
    "# Building a Robust Geocoder\n",
    "\n",
    "Geocoding is a process whereby an address is converted into a coordinate pair. While this may seem fairly straightforward---the prevalence of Google Maps, etc. tells us this---it is a very difficult technical problem, especially when many addresses in many localities in multiple languages are involved.\n",
    "\n",
    "There are a huge number of geocoding services available and they change all the time---my current favorite is one called OpenCage. There are a number of reasons I like it:\n",
    "\n",
    "1. OpenCage understands complete addresses; while many expect you to parse your address (e.g., into street number, street name, city, state, country), OpenCage does this automatically in the background. This makes life so much easier.\n",
    "2. OpenCage is built on top of several entirely open-source geocoders.\n",
    "3. It's free plan is fairly generous: it allows you to geocoder 2,500 addresses per day.\n",
    "4. Maybe most importantly: your data remains yours after you use the service. This is not the case if you use, for example, Google’s Geocoding service---Google will then claim that they own your data. OpenCage is built to follow the fairly stringent guidelines of the EU’s General Data Protection Regulation (GDPR), which try to coerce firms to let you own your data.\n",
    "\n",
    "So we like OpenCage. Go to the [OpenCage Website](https://opencagedata.com/) and sign-up for an account. Once you have your account set-up you should see something called an 'API key' on your Dashboard. You will need this key to geocode your addresses. Copy your API key and store it somewhere. You will need it later!"
   ]
  },
  {
   "cell_type": "markdown",
   "metadata": {},
   "source": [
    "## Create a New Virtual Environment\n",
    "\n",
    "We begin by creating a new virtual environment for our geocoding work. As a reminder, a virtual environment is a self-contained Python environment, generally built to accommodate a specific project. We use these so that we're not endlessly installing pacakges into a single bloated environment; instead, we work only with those packages we need. In a terminal window type...\n",
    "\n",
    "```sh\n",
    "# Tells python 3 to run the venv module...\n",
    "# ...and creating a new virtual environment...\n",
    "# ...in our current directory.\n",
    "python3 -m venv venv/\n",
    "\n",
    "# On Windows...\n",
    "c:\\Python36\\python -m venv venv/\n",
    "```\n",
    "\n",
    "We can activate this virtual environment by running the following at the terminal:\n",
    "\n",
    "```sh\n",
    "# On macOS or Linux...\n",
    ". venv/bin/activate\n",
    "# On Windows...\n",
    "venv\\Scripts\\activate.bat\n",
    "```\n",
    "\n",
    "Once we've activated our virtual environment, any packages we install will be specific to this environment---this is very useful for managing packages on a project-by-project basis. We're going to install the `opencage` package, which is a fairly thin wrapper for the OpenCage API (by 'thin wrapper', I just mean that it provides convenience functions without contributing much in the way of added functionality).\n",
    "\n",
    "```sh\n",
    "pip install opencage\n",
    "```"
   ]
  },
  {
   "cell_type": "markdown",
   "metadata": {},
   "source": [
    "## Import Modules\n",
    "\n",
    "Create a new Python file; at the top, we need to import the relevant `OpenCageGeocode` object from the library. We'll also import `pprint` (pretty print) which will print, for example, JSON responses nicely."
   ]
  },
  {
   "cell_type": "code",
   "execution_count": 1,
   "metadata": {},
   "outputs": [],
   "source": [
    "from opencage.geocoder import OpenCageGeocode\n",
    "from pprint import pprint"
   ]
  },
  {
   "cell_type": "markdown",
   "metadata": {},
   "source": [
    "## Set up the Geocoder\n",
    "\n",
    "We'll then create a new instance of the OpenCageGeocode object; in order to do this, we need to use the API key that we were given when we created a new OpenCage account. But we want to do this in a way that prevents others from finding our key. If you're going to be working on a public git repository (e.g., [Github](https://github.com/), [Gitlab](https://gitlab.com/)), your goal is to NEVER COMMIT YOUR KEY to your public repository. This means writing your code such that the key is read in from an environment variable.\n",
    "\n",
    "### Store Your API key in an Environment Variable\n",
    "\n",
    "The easiest way to store an environment variable is to create a new file called simply `.env` in your project directory and use a nifty package called `python-dotenv` to load your variables. If you're using a git repository, make sure you add `.env` to your `.gitignore` file! You'll have to install the package like so (assuming that you've activated your virtual environment...)\n",
    "\n",
    "```sh\n",
    "pip install python-dotenv\n",
    "```\n",
    "\n",
    "In your `.env` file, include this line:\n",
    "\n",
    "```sh\n",
    "OPENCAGE=yourapikey\n",
    "```\n",
    "\n",
    "Once you've set the environment variable, reading it in a Python script becomes fairly trivial. We'll now do this and create a new OpenCageGeocode instance."
   ]
  },
  {
   "cell_type": "code",
   "execution_count": 78,
   "metadata": {},
   "outputs": [],
   "source": [
    "import os\n",
    "from dotenv import load_dotenv, find_dotenv\n",
    "load_dotenv()\n",
    "\n",
    "key = os.getenv('OPENCAGE')\n",
    "geocoder = OpenCageGeocode(key)"
   ]
  },
  {
   "cell_type": "markdown",
   "metadata": {},
   "source": [
    "## Geocoder Directionality\n",
    "\n",
    "Generally speaking, there are two primary 'directions' for a geocoding operation.\n",
    "\n",
    "1. __Forwards__: Forward geocoding refers to converting an address (pseudo-spatial data) to a coordinate pair (spatial data), often alongside other supplementary infromation.\n",
    "2. __Reverse__: Backwards geocoding refers to converting a coordinate pair (spatial data) to an address, often with additional information.\n",
    "\n",
    "The former is the more common research task, but for completeness' sake, let's demonstrate a reverse geocode. The instance of the OpenCage geocoder you created above has a method called `reverse_geocode`. Let's query our geocoder using a latitute/longitude pair in the fine city of Somerville, Massachusetts using `pprint()` to print the (pretty extensive!) results readably."
   ]
  },
  {
   "cell_type": "code",
   "execution_count": 5,
   "metadata": {},
   "outputs": [
    {
     "name": "stdout",
     "output_type": "stream",
     "text": [
      "[{'annotations': {'DMS': {'lat': \"42° 23' 8.83716'' N\",\n",
      "                          'lng': \"71° 5' 39.85944'' W\"},\n",
      "                  'FIPS': {'county': '25017', 'state': '25'},\n",
      "                  'MGRS': '19TCG2759494735',\n",
      "                  'Maidenhead': 'FN42kj82qo',\n",
      "                  'Mercator': {'x': -7914193.002, 'y': 5190132.398},\n",
      "                  'OSM': {'edit_url': 'https://www.openstreetmap.org/edit?way=29794889#map=17/42.38579/-71.09441',\n",
      "                          'note_url': 'https://www.openstreetmap.org/note/new#map=17/42.38579/-71.09441&layers=N',\n",
      "                          'url': 'https://www.openstreetmap.org/?mlat=42.38579&mlon=-71.09441#map=17/42.38579/-71.09441'},\n",
      "                  'UN_M49': {'regions': {'AMERICAS': '019',\n",
      "                                         'NORTHERN_AMERICA': '021',\n",
      "                                         'US': '840',\n",
      "                                         'WORLD': '001'},\n",
      "                             'statistical_groupings': ['MEDC']},\n",
      "                  'callingcode': 1,\n",
      "                  'currency': {'alternate_symbols': ['US$'],\n",
      "                               'decimal_mark': '.',\n",
      "                               'disambiguate_symbol': 'US$',\n",
      "                               'html_entity': '$',\n",
      "                               'iso_code': 'USD',\n",
      "                               'iso_numeric': '840',\n",
      "                               'name': 'United States Dollar',\n",
      "                               'smallest_denomination': 1,\n",
      "                               'subunit': 'Cent',\n",
      "                               'subunit_to_unit': 100,\n",
      "                               'symbol': '$',\n",
      "                               'symbol_first': 1,\n",
      "                               'thousands_separator': ','},\n",
      "                  'flag': '🇺🇸',\n",
      "                  'geohash': 'drt3nhneh794edc7fzzj',\n",
      "                  'qibla': 60.41,\n",
      "                  'roadinfo': {'drive_on': 'right',\n",
      "                               'road': 'Highland Avenue',\n",
      "                               'speed_in': 'mph'},\n",
      "                  'sun': {'rise': {'apparent': 1583320500,\n",
      "                                   'astronomical': 1583314920,\n",
      "                                   'civil': 1583318820,\n",
      "                                   'nautical': 1583316840},\n",
      "                          'set': {'apparent': 1583361480,\n",
      "                                  'astronomical': 1583280660,\n",
      "                                  'civil': 1583363160,\n",
      "                                  'nautical': 1583365080}},\n",
      "                  'timezone': {'name': 'America/New_York',\n",
      "                               'now_in_dst': 0,\n",
      "                               'offset_sec': -18000,\n",
      "                               'offset_string': '-0500',\n",
      "                               'short_name': 'EST'},\n",
      "                  'what3words': {'words': 'beans.anyway.valve'}},\n",
      "  'bounds': {'northeast': {'lat': 42.3859639, 'lng': -71.0941313},\n",
      "             'southwest': {'lat': 42.3856123, 'lng': -71.0946794}},\n",
      "  'components': {'ISO_3166-1_alpha-2': 'US',\n",
      "                 'ISO_3166-1_alpha-3': 'USA',\n",
      "                 '_category': 'building',\n",
      "                 '_type': 'building',\n",
      "                 'continent': 'North America',\n",
      "                 'country': 'United States of America',\n",
      "                 'country_code': 'us',\n",
      "                 'county': 'Middlesex County',\n",
      "                 'house_number': '79',\n",
      "                 'neighbourhood': 'Spring Hill',\n",
      "                 'postcode': '02143',\n",
      "                 'road': 'Highland Avenue',\n",
      "                 'state': 'Massachusetts',\n",
      "                 'state_code': 'MA',\n",
      "                 'town': 'Somerville',\n",
      "                 'unknown': 'Somerville Central Library'},\n",
      "  'confidence': 10,\n",
      "  'formatted': 'Somerville Central Library, 79 Highland Avenue, Somerville, MA '\n",
      "               '02143, United States of America',\n",
      "  'geometry': {'lat': 42.3857881, 'lng': -71.0944054}}]\n"
     ]
    }
   ],
   "source": [
    "results = geocoder.reverse_geocode(42.385776, -71.094382)\n",
    "pprint(results)"
   ]
  },
  {
   "cell_type": "markdown",
   "metadata": {},
   "source": [
    "We see that the results are extensive! Not only does it return an address, but it returns a placename---Somerville Central Library---administrative boundaries, current sunset and sunrise information, and local currency! The data is returned formatted in JavaScript Object Notation---or JSON, This is very, very common when working with web service APIs. JSON has become something like the _lingua franca_ of application development.\n",
    "\n",
    "### Parsing Reverse Geocoding Result\n",
    "\n",
    "We can parse it easily! Let's say we wanted to retrieve only the formatted placename, including the address. We want the first result (i.e., the 0th index position in Python-ese), and we want the value of the `formatted` key. So..."
   ]
  },
  {
   "cell_type": "code",
   "execution_count": 6,
   "metadata": {},
   "outputs": [
    {
     "name": "stdout",
     "output_type": "stream",
     "text": [
      "Somerville Central Library, 79 Highland Avenue, Somerville, MA 02143, United States of America\n"
     ]
    }
   ],
   "source": [
    "formatted = results[0]['formatted']\n",
    "print(formatted)"
   ]
  },
  {
   "cell_type": "markdown",
   "metadata": {},
   "source": [
    "Similarly, if we wanted to get just the street name, the town and the state, we could concatenate those values like this..."
   ]
  },
  {
   "cell_type": "code",
   "execution_count": 14,
   "metadata": {},
   "outputs": [
    {
     "name": "stdout",
     "output_type": "stream",
     "text": [
      "Highland Avenue, Somerville, MA\n",
      "Highland Avenue, Somerville, MA\n",
      "Highland Avenue, Somerville, MA\n"
     ]
    }
   ],
   "source": [
    "street = results[0]['components']['road'] + ', ' + results[0]['components']['town'] + ', ' + results[0]['components']['state_code']\n",
    "print(street)\n",
    "\n",
    "# Or, using join...\n",
    "\n",
    "street = ', '.join([results[0]['components']['road'], results[0]['components']['town'], results[0]['components']['state_code']])\n",
    "print(street)\n",
    "\n",
    "# Or, slightly cleaner yet...\n",
    "\n",
    "comp = results[0]['components']\n",
    "street = ', '.join([comp['road'], comp['town'], comp['state_code']])\n",
    "print(street)"
   ]
  },
  {
   "cell_type": "markdown",
   "metadata": {},
   "source": [
    "Parsing JSON like this is a very common task so it's worth getting comfortable with it!"
   ]
  },
  {
   "cell_type": "markdown",
   "metadata": {},
   "source": [
    "## Forward Geocoding\n",
    "\n",
    "The more common task for a geocoder is to take an address, or a long list of addresses, and turn it into a mappable latitude/longitude pair. This, again, is called forward geocoding. The process is very similar to the above. Note that one of the great things about OpenCage is that your dataset does not need to be pre-parsed! No more meticulously combing your address fields for street numbers, street names, town names, state names, postal codes, etc. The geocoder will handle that for you.\n",
    "\n",
    "Let's do the reverse of the above: send the geocoder the address of the Somerville Public Library Central Branch in Winter Hill."
   ]
  },
  {
   "cell_type": "code",
   "execution_count": 15,
   "metadata": {},
   "outputs": [
    {
     "name": "stdout",
     "output_type": "stream",
     "text": [
      "[{'annotations': {'DMS': {'lat': \"42° 23' 8.83716'' N\",\n",
      "                          'lng': \"71° 5' 39.85944'' W\"},\n",
      "                  'FIPS': {'county': '25017', 'state': '25'},\n",
      "                  'MGRS': '19TCG2759494735',\n",
      "                  'Maidenhead': 'FN42kj82qo',\n",
      "                  'Mercator': {'x': -7914193.002, 'y': 5190132.398},\n",
      "                  'OSM': {'edit_url': 'https://www.openstreetmap.org/edit?way=29794889#map=17/42.38579/-71.09441',\n",
      "                          'note_url': 'https://www.openstreetmap.org/note/new#map=17/42.38579/-71.09441&layers=N',\n",
      "                          'url': 'https://www.openstreetmap.org/?mlat=42.38579&mlon=-71.09441#map=17/42.38579/-71.09441'},\n",
      "                  'UN_M49': {'regions': {'AMERICAS': '019',\n",
      "                                         'NORTHERN_AMERICA': '021',\n",
      "                                         'US': '840',\n",
      "                                         'WORLD': '001'},\n",
      "                             'statistical_groupings': ['MEDC']},\n",
      "                  'callingcode': 1,\n",
      "                  'currency': {'alternate_symbols': ['US$'],\n",
      "                               'decimal_mark': '.',\n",
      "                               'disambiguate_symbol': 'US$',\n",
      "                               'html_entity': '$',\n",
      "                               'iso_code': 'USD',\n",
      "                               'iso_numeric': '840',\n",
      "                               'name': 'United States Dollar',\n",
      "                               'smallest_denomination': 1,\n",
      "                               'subunit': 'Cent',\n",
      "                               'subunit_to_unit': 100,\n",
      "                               'symbol': '$',\n",
      "                               'symbol_first': 1,\n",
      "                               'thousands_separator': ','},\n",
      "                  'flag': '🇺🇸',\n",
      "                  'geohash': 'drt3nhneh794edc7fzzj',\n",
      "                  'qibla': 60.41,\n",
      "                  'roadinfo': {'drive_on': 'right',\n",
      "                               'road': 'Highland Avenue',\n",
      "                               'speed_in': 'mph'},\n",
      "                  'sun': {'rise': {'apparent': 1583320500,\n",
      "                                   'astronomical': 1583314920,\n",
      "                                   'civil': 1583318820,\n",
      "                                   'nautical': 1583316840},\n",
      "                          'set': {'apparent': 1583361480,\n",
      "                                  'astronomical': 1583280660,\n",
      "                                  'civil': 1583363160,\n",
      "                                  'nautical': 1583365080}},\n",
      "                  'timezone': {'name': 'America/New_York',\n",
      "                               'now_in_dst': 0,\n",
      "                               'offset_sec': -18000,\n",
      "                               'offset_string': '-0500',\n",
      "                               'short_name': 'EST'},\n",
      "                  'what3words': {'words': 'beans.anyway.valve'}},\n",
      "  'bounds': {'northeast': {'lat': 42.3859639, 'lng': -71.0941313},\n",
      "             'southwest': {'lat': 42.3856123, 'lng': -71.0946794}},\n",
      "  'components': {'ISO_3166-1_alpha-2': 'US',\n",
      "                 'ISO_3166-1_alpha-3': 'USA',\n",
      "                 '_category': 'education',\n",
      "                 '_type': 'library',\n",
      "                 'continent': 'North America',\n",
      "                 'country': 'United States of America',\n",
      "                 'country_code': 'us',\n",
      "                 'county': 'Middlesex County',\n",
      "                 'house_number': '79',\n",
      "                 'library': 'Somerville Central Library',\n",
      "                 'neighbourhood': 'Spring Hill',\n",
      "                 'postcode': '02143',\n",
      "                 'road': 'Highland Avenue',\n",
      "                 'state': 'Massachusetts',\n",
      "                 'state_code': 'MA',\n",
      "                 'town': 'Somerville'},\n",
      "  'confidence': 9,\n",
      "  'formatted': 'Somerville Central Library, 79 Highland Avenue, Somerville, MA '\n",
      "               '02143, United States of America',\n",
      "  'geometry': {'lat': 42.3857881, 'lng': -71.0944054}},\n",
      " {'annotations': {'DMS': {'lat': \"42° 23' 11.51160'' N\",\n",
      "                          'lng': \"71° 5' 52.17000'' W\"},\n",
      "                  'FIPS': {'state': '25'},\n",
      "                  'MGRS': '19TCG2731494825',\n",
      "                  'Maidenhead': 'FN42kj82gs',\n",
      "                  'Mercator': {'x': -7914573.676, 'y': 5190243.952},\n",
      "                  'OSM': {'note_url': 'https://www.openstreetmap.org/note/new#map=17/42.38653/-71.09783&layers=N',\n",
      "                          'url': 'https://www.openstreetmap.org/?mlat=42.38653&mlon=-71.09783#map=17/42.38653/-71.09783'},\n",
      "                  'UN_M49': {'regions': {'AMERICAS': '019',\n",
      "                                         'NORTHERN_AMERICA': '021',\n",
      "                                         'US': '840',\n",
      "                                         'WORLD': '001'},\n",
      "                             'statistical_groupings': ['MEDC']},\n",
      "                  'callingcode': 1,\n",
      "                  'currency': {'alternate_symbols': ['US$'],\n",
      "                               'decimal_mark': '.',\n",
      "                               'disambiguate_symbol': 'US$',\n",
      "                               'html_entity': '$',\n",
      "                               'iso_code': 'USD',\n",
      "                               'iso_numeric': '840',\n",
      "                               'name': 'United States Dollar',\n",
      "                               'smallest_denomination': 1,\n",
      "                               'subunit': 'Cent',\n",
      "                               'subunit_to_unit': 100,\n",
      "                               'symbol': '$',\n",
      "                               'symbol_first': 1,\n",
      "                               'thousands_separator': ','},\n",
      "                  'flag': '🇺🇸',\n",
      "                  'geohash': 'drt3nhhpkw54pt5hzfm9',\n",
      "                  'qibla': 60.4,\n",
      "                  'roadinfo': {'drive_on': 'right',\n",
      "                               'road': 'Highland Ave',\n",
      "                               'speed_in': 'mph'},\n",
      "                  'sun': {'rise': {'apparent': 1583320500,\n",
      "                                   'astronomical': 1583314920,\n",
      "                                   'civil': 1583318820,\n",
      "                                   'nautical': 1583316840},\n",
      "                          'set': {'apparent': 1583361480,\n",
      "                                  'astronomical': 1583280660,\n",
      "                                  'civil': 1583363160,\n",
      "                                  'nautical': 1583365080}},\n",
      "                  'timezone': {'name': 'America/New_York',\n",
      "                               'now_in_dst': 0,\n",
      "                               'offset_sec': -18000,\n",
      "                               'offset_string': '-0500',\n",
      "                               'short_name': 'EST'},\n",
      "                  'what3words': {'words': 'zones.pardon.rainy'}},\n",
      "  'components': {'ISO_3166-1_alpha-2': 'US',\n",
      "                 'ISO_3166-1_alpha-3': 'USA',\n",
      "                 '_category': 'building',\n",
      "                 '_type': 'building',\n",
      "                 'continent': 'North America',\n",
      "                 'country': 'United States of America',\n",
      "                 'country_code': 'us',\n",
      "                 'house_number': '79',\n",
      "                 'road': 'Highland Ave',\n",
      "                 'state': 'Massachusetts',\n",
      "                 'state_code': 'MA',\n",
      "                 'town': 'Somerville'},\n",
      "  'confidence': 10,\n",
      "  'formatted': '79 Highland Ave, Somerville, MA, United States of America',\n",
      "  'geometry': {'lat': 42.386531, 'lng': -71.097825}},\n",
      " {'annotations': {'DMS': {'lat': \"42° 22' 58.44000'' N\",\n",
      "                          'lng': \"71° 6' 10.08000'' W\"},\n",
      "                  'FIPS': {'county': '25017', 'state': '25'},\n",
      "                  'MGRS': '19TCG2689594432',\n",
      "                  'Maidenhead': 'FN42kj71pv',\n",
      "                  'Mercator': {'x': -7915127.49, 'y': 5189698.73},\n",
      "                  'OSM': {'note_url': 'https://www.openstreetmap.org/note/new#map=17/42.38290/-71.10280&layers=N',\n",
      "                          'url': 'https://www.openstreetmap.org/?mlat=42.38290&mlon=-71.10280#map=17/42.38290/-71.10280'},\n",
      "                  'UN_M49': {'regions': {'AMERICAS': '019',\n",
      "                                         'NORTHERN_AMERICA': '021',\n",
      "                                         'US': '840',\n",
      "                                         'WORLD': '001'},\n",
      "                             'statistical_groupings': ['MEDC']},\n",
      "                  'callingcode': 1,\n",
      "                  'currency': {'alternate_symbols': ['US$'],\n",
      "                               'decimal_mark': '.',\n",
      "                               'disambiguate_symbol': 'US$',\n",
      "                               'html_entity': '$',\n",
      "                               'iso_code': 'USD',\n",
      "                               'iso_numeric': '840',\n",
      "                               'name': 'United States Dollar',\n",
      "                               'smallest_denomination': 1,\n",
      "                               'subunit': 'Cent',\n",
      "                               'subunit_to_unit': 100,\n",
      "                               'symbol': '$',\n",
      "                               'symbol_first': 1,\n",
      "                               'thousands_separator': ','},\n",
      "                  'flag': '🇺🇸',\n",
      "                  'geohash': 'drt3n58d29jw7kz7cjf8',\n",
      "                  'qibla': 60.4,\n",
      "                  'roadinfo': {'drive_on': 'right', 'speed_in': 'mph'},\n",
      "                  'sun': {'rise': {'apparent': 1583320500,\n",
      "                                   'astronomical': 1583314920,\n",
      "                                   'civil': 1583318820,\n",
      "                                   'nautical': 1583316840},\n",
      "                          'set': {'apparent': 1583361480,\n",
      "                                  'astronomical': 1583280660,\n",
      "                                  'civil': 1583363160,\n",
      "                                  'nautical': 1583365080}},\n",
      "                  'timezone': {'name': 'America/New_York',\n",
      "                               'now_in_dst': 0,\n",
      "                               'offset_sec': -18000,\n",
      "                               'offset_string': '-0500',\n",
      "                               'short_name': 'EST'},\n",
      "                  'what3words': {'words': 'line.desks.plant'}},\n",
      "  'bounds': {'northeast': {'lat': 42.392238, 'lng': -71.072728},\n",
      "             'southwest': {'lat': 42.372724, 'lng': -71.118193}},\n",
      "  'components': {'ISO_3166-1_alpha-2': 'US',\n",
      "                 'ISO_3166-1_alpha-3': 'USA',\n",
      "                 '_category': 'place',\n",
      "                 '_type': 'county',\n",
      "                 'continent': 'North America',\n",
      "                 'country': 'United States of America',\n",
      "                 'country_code': 'us',\n",
      "                 'county': 'Middlesex County',\n",
      "                 'postcode': '02143',\n",
      "                 'state': 'Massachusetts',\n",
      "                 'state_code': 'MA'},\n",
      "  'confidence': 7,\n",
      "  'formatted': 'Middlesex County, MA 02143, United States of America',\n",
      "  'geometry': {'lat': 42.3829, 'lng': -71.1028}}]\n"
     ]
    }
   ],
   "source": [
    "query = u'79 Highland Avenue, Somerville, MA 02143'\n",
    "results = geocoder.geocode(query)\n",
    "\n",
    "pprint(results)"
   ]
  },
  {
   "cell_type": "markdown",
   "metadata": {},
   "source": [
    "Note that in this case, the geocoder has returned three results. Each slightly more general than the previous. The first matches the address to a specific place---the Somerville Central Library---the second matches it to an address, and the third simply places the address in Middlesex County with a zip code. In general, the first result is going to be the most precise location (and the one with the highest confidence score), so it'll be the most useful for data analysis.\n",
    "\n",
    "### Parse Forward Geocoding Result\n",
    "\n",
    "Just like above, we can parse the result! We could get the formatted address, the location's identifying [what3words](https://what3words.com/) words, or the latitude and longitude corresponding to the address."
   ]
  },
  {
   "cell_type": "code",
   "execution_count": 21,
   "metadata": {},
   "outputs": [
    {
     "name": "stdout",
     "output_type": "stream",
     "text": [
      "Somerville Central Library, 79 Highland Avenue, Somerville, MA 02143, United States of America\n",
      "beans.anyway.valve\n",
      "[42.3857881, -71.0944054]\n"
     ]
    }
   ],
   "source": [
    "formatted = results[0]['formatted']\n",
    "print(formatted)\n",
    "what3words = results[0]['annotations']['what3words']['words']\n",
    "print(what3words)\n",
    "lat = results[0]['geometry']['lat']\n",
    "lng = results[0]['geometry']['lng']\n",
    "print([lat, lng])"
   ]
  },
  {
   "cell_type": "markdown",
   "metadata": {},
   "source": [
    "## Batch Geocoding\n",
    "\n",
    "\"This has all been well and good,\" you might say, \"but I'm here because I have 2,304 addresses in a spreadsheet. I don't really have to hand-code 2,304 queries and parse 2,304 geocoder results, do I?\"\n",
    "\n",
    "__OF COURSE NOT!__\n",
    "\n",
    "We can write a few (relatively) simple lines of code to open a delimited text file and iterate over its addresses, parsing and returning the results returned for each row.\n",
    "\n",
    "We'll first need to write a few lines of code that open the CSV file and iterate over its rows. There numerous ways to do this. We're going to use the leanest possible method that uses very little beyond base Python."
   ]
  },
  {
   "cell_type": "code",
   "execution_count": 32,
   "metadata": {},
   "outputs": [
    {
     "name": "stdout",
     "output_type": "stream",
     "text": [
      "Somerville Public Library East Branch\n",
      "Somerville Public Library West Branch\n",
      "Somerville Public Library Central Branch\n"
     ]
    }
   ],
   "source": [
    "# Import the csv library.\n",
    "import csv\n",
    "\n",
    "# Provide the location of the som_lib.csv file.\n",
    "addressfile = 'som_lib.csv'\n",
    "# Open the file...\n",
    "with open(addressfile, 'r') as file:\n",
    "    # ...and read its contents as a dictionary.\n",
    "    reader = csv.DictReader(file)\n",
    "    # Iterate over the CSV rows...\n",
    "    for line in reader:\n",
    "        # ...and print the value of the 'name' column.\n",
    "        print(line['name'])"
   ]
  },
  {
   "cell_type": "markdown",
   "metadata": {},
   "source": [
    "But what if the file can't be found? Let's intentionally introduce a typo into the file name."
   ]
  },
  {
   "cell_type": "code",
   "execution_count": 33,
   "metadata": {},
   "outputs": [
    {
     "ename": "FileNotFoundError",
     "evalue": "[Errno 2] No such file or directory: 'som_libs.csv'",
     "output_type": "error",
     "traceback": [
      "\u001b[0;31m---------------------------------------------------------------------------\u001b[0m",
      "\u001b[0;31mFileNotFoundError\u001b[0m                         Traceback (most recent call last)",
      "\u001b[0;32m<ipython-input-33-c5a8f5894e0e>\u001b[0m in \u001b[0;36m<module>\u001b[0;34m\u001b[0m\n\u001b[1;32m      5\u001b[0m \u001b[0maddressfile\u001b[0m \u001b[0;34m=\u001b[0m \u001b[0;34m'som_libs.csv'\u001b[0m\u001b[0;34m\u001b[0m\u001b[0m\n\u001b[1;32m      6\u001b[0m \u001b[0;31m# Open the file...\u001b[0m\u001b[0;34m\u001b[0m\u001b[0;34m\u001b[0m\u001b[0m\n\u001b[0;32m----> 7\u001b[0;31m \u001b[0;32mwith\u001b[0m \u001b[0mopen\u001b[0m\u001b[0;34m(\u001b[0m\u001b[0maddressfile\u001b[0m\u001b[0;34m,\u001b[0m \u001b[0;34m'r'\u001b[0m\u001b[0;34m)\u001b[0m \u001b[0;32mas\u001b[0m \u001b[0mfile\u001b[0m\u001b[0;34m:\u001b[0m\u001b[0;34m\u001b[0m\u001b[0m\n\u001b[0m\u001b[1;32m      8\u001b[0m     \u001b[0;31m# ...and read its contents as a dictionary.\u001b[0m\u001b[0;34m\u001b[0m\u001b[0;34m\u001b[0m\u001b[0m\n\u001b[1;32m      9\u001b[0m     \u001b[0mreader\u001b[0m \u001b[0;34m=\u001b[0m \u001b[0mcsv\u001b[0m\u001b[0;34m.\u001b[0m\u001b[0mDictReader\u001b[0m\u001b[0;34m(\u001b[0m\u001b[0mfile\u001b[0m\u001b[0;34m)\u001b[0m\u001b[0;34m\u001b[0m\u001b[0m\n",
      "\u001b[0;31mFileNotFoundError\u001b[0m: [Errno 2] No such file or directory: 'som_libs.csv'"
     ]
    }
   ],
   "source": [
    "# Import the csv library.\n",
    "import csv\n",
    "\n",
    "# Provide the location of the som_lib.csv file.\n",
    "addressfile = 'som_libs.csv'\n",
    "# Open the file...\n",
    "with open(addressfile, 'r') as file:\n",
    "    # ...and read its contents as a dictionary.\n",
    "    reader = csv.DictReader(file)\n",
    "    # Iterate over the CSV rows...\n",
    "    for line in reader:\n",
    "        # ...and print the value of the 'name' column.\n",
    "        print(line['name'])"
   ]
  },
  {
   "cell_type": "markdown",
   "metadata": {},
   "source": [
    "Python returns an error that is not especially interpretable, though it is nice enough to inform us that the error is of the `FileNotFoundError` type! Instead of throwing an error, let's add a `try`/`except` condition..."
   ]
  },
  {
   "cell_type": "code",
   "execution_count": 37,
   "metadata": {},
   "outputs": [
    {
     "name": "stdout",
     "output_type": "stream",
     "text": [
      "som_libs.csv does not exist.\n"
     ]
    }
   ],
   "source": [
    "import csv\n",
    "\n",
    "addressfile = 'som_libs.csv'\n",
    "\n",
    "# Try to load the file...\n",
    "try:\n",
    "    with open(addressfile, 'r') as file:\n",
    "        reader = csv.DictReader(file)\n",
    "        for line in reader:\n",
    "            print(line['name'])\n",
    "# ...and if reading it throws a FileNotFoundError,\n",
    "# print a simple, legible message.\n",
    "except FileNotFoundError:\n",
    "    print(f'{addressfile} does not exist.')"
   ]
  },
  {
   "cell_type": "markdown",
   "metadata": {},
   "source": [
    "Let's add one more of these conditions---we're using the OpenCage free service, which has a rate limit of 2,500 requests per day. If we exceed the rate limit, the service will return a `RateLimitExceededError`. Let's accommodate this congingency by adding another `except` conditional."
   ]
  },
  {
   "cell_type": "code",
   "execution_count": 38,
   "metadata": {},
   "outputs": [
    {
     "name": "stdout",
     "output_type": "stream",
     "text": [
      "Somerville Public Library East Branch\n",
      "Somerville Public Library West Branch\n",
      "Somerville Public Library Central Branch\n"
     ]
    }
   ],
   "source": [
    "import csv\n",
    "\n",
    "addressfile = 'som_lib.csv'\n",
    "\n",
    "# Try to load the file...\n",
    "try:\n",
    "    with open(addressfile, 'r') as file:\n",
    "        reader = csv.DictReader(file)\n",
    "        for line in reader:\n",
    "            print(line['name'])\n",
    "# ...and if reading it throws a FileNotFoundError,\n",
    "# print a simple, legible message.\n",
    "except FileNotFoundError:\n",
    "    print(f'{addressfile} does not exist.')\n",
    "except RateLimitExceededError as ex:\n",
    "    print(ex)"
   ]
  },
  {
   "cell_type": "markdown",
   "metadata": {},
   "source": [
    "Now that we're set up to deal with errors, we can write geocoder queries into our script. We want to keep rows that OpenCage cannot successfully geocode, so we insert an if/else statement that creates null latitude and longitude values if no result is returned."
   ]
  },
  {
   "cell_type": "code",
   "execution_count": 61,
   "metadata": {},
   "outputs": [
    {
     "name": "stdout",
     "output_type": "stream",
     "text": [
      "OrderedDict([('name', 'Somerville Public Library East Branch'), ('address', '115 Broadway, Somerville, MA 02145'), ('lat', 42.3879326), ('lng', -71.0835948)])\n",
      "OrderedDict([('name', 'Somerville Public Library West Branch'), ('address', '40 College Ave, Somerville, MA 02144'), ('lat', 42.3981483), ('lng', -71.1217138)])\n",
      "OrderedDict([('name', 'Somerville Public Library Central Branch'), ('address', '79 Highland Avenue, Somerville, MA 02143'), ('lat', 42.3857881), ('lng', -71.0944054)])\n"
     ]
    }
   ],
   "source": [
    "import csv\n",
    "\n",
    "addressfile = 'som_lib.csv'\n",
    "\n",
    "try:\n",
    "    with open(addressfile, 'r') as incsv:\n",
    "        reader = csv.DictReader(incsv)\n",
    "        for line in reader:\n",
    "            # clean up address, stripping leading and trailing charaters\n",
    "            address = line['address'].strip()\n",
    "            # send query to geocoder\n",
    "            result = geocoder.geocode(address)\n",
    "            # check if there are results...\n",
    "            if result and len(result):\n",
    "                # attach lat and long fields to the iterator line.\n",
    "                line['lat'] = result[0]['geometry']['lat']\n",
    "                line['lng'] = result[0]['geometry']['lng']\n",
    "            else:\n",
    "                line['lat'] = None\n",
    "                line['lng'] = None\n",
    "            print(line)\n",
    "            \n",
    "except FileNotFoundError:\n",
    "    print(f'{addressfile} does not exist.')\n",
    "except RateLimitExceededError as ex:\n",
    "    print(ex)"
   ]
  },
  {
   "cell_type": "markdown",
   "metadata": {},
   "source": [
    "Not too bad! \n",
    "\n",
    "## Write to a File\n",
    "\n",
    "The only thing we'll want our basic geocoder to do is write this same information out to a file. Let's add this functionality. We'll do this by naming a new CSV, opening it, and instantiating it as a DictWriter. We'll also need to specify field names for the output CSV; we do that by simply adding 'lat' and 'lng' to the list of fieldnames that our input file containts (accessed using `reader.fieldnames`). \n",
    "\n",
    "Note that we also included two ways to name the output file: manually, or by using `os.path.splitext()` which takes a path to a file and splits it into the file path and the file extension."
   ]
  },
  {
   "cell_type": "code",
   "execution_count": 63,
   "metadata": {},
   "outputs": [
    {
     "name": "stdout",
     "output_type": "stream",
     "text": [
      "OrderedDict([('name', 'Somerville Public Library East Branch'), ('address', '115 Broadway, Somerville, MA 02145'), ('lat', 42.3879326), ('lng', -71.0835948)])\n",
      "OrderedDict([('name', 'Somerville Public Library West Branch'), ('address', '40 College Ave, Somerville, MA 02144'), ('lat', 42.3981483), ('lng', -71.1217138)])\n",
      "OrderedDict([('name', 'Somerville Public Library Central Branch'), ('address', '79 Highland Avenue, Somerville, MA 02143'), ('lat', 42.3857881), ('lng', -71.0944054)])\n"
     ]
    }
   ],
   "source": [
    "import csv\n",
    "\n",
    "addressfile = 'som_lib.csv'\n",
    "outputfile = 'som_lib_geocode.csv'\n",
    "# Or, if you want to be fancy...\n",
    "outputfile = os.path.splitext(addressfile)[0] + '_geocode.csv'\n",
    "\n",
    "try:\n",
    "    with open(addressfile, 'r') as incsv:\n",
    "        # Open outputfile in write mode ('w')...\n",
    "        with open(outputfile, 'w') as outcsv:\n",
    "            reader = csv.DictReader(incsv)\n",
    "            # Add lat and lng to existing fieldnames\n",
    "            field_names = reader.fieldnames + ['lat', 'lng']\n",
    "            # Create the writer DictWriter - we'll use this to write rows.\n",
    "            writer = csv.DictWriter(outcsv, field_names)\n",
    "            for line in reader:\n",
    "                address = line['address'].strip()\n",
    "                result = geocoder.geocode(address)\n",
    "                if result and len(result):\n",
    "                    line['lat'] = result[0]['geometry']['lat']\n",
    "                    line['lng'] = result[0]['geometry']['lng']\n",
    "                else:\n",
    "                    line['lat'] = None\n",
    "                    line['lng'] = None\n",
    "                print(line)\n",
    "                # Write geocoded row to output file.\n",
    "                writer.writerow(line)\n",
    "except FileNotFoundError:\n",
    "    print(f'{addressfile} does not exist.')\n",
    "except RateLimitExceededError as ex:\n",
    "    print(ex)"
   ]
  },
  {
   "cell_type": "markdown",
   "metadata": {},
   "source": [
    "Excellent! We've written a geocoder that will take a CSV as input (with any number of columns), and output a CSV with additional columns storing latitude and longitude in WGS 84 coordinates. This can be easily imported into a desktop GIS. For simple purposes, this script is all you'll need. There are certainly additions you could make! Foe example: how would you add a field to the output CSV that stores the what3words code?\n",
    "\n",
    "But beyond these fairly simple 'add more fields' questions, we can also:\n",
    "\n",
    "1. Make the code more reusable by wrapping it inside of a function.\n",
    "2. Place the geocoding operation within more contemporary data science workflow by writing it for the Pandas library.\n",
    "3. Use the spatial data science library GeoPandas to write the result to a GeoJSON file.\n",
    "\n",
    "These possibilities are included below, though we will not explore them in depth."
   ]
  },
  {
   "cell_type": "markdown",
   "metadata": {},
   "source": [
    "## Extension 1: Wrap into a Function"
   ]
  },
  {
   "cell_type": "code",
   "execution_count": 65,
   "metadata": {},
   "outputs": [
    {
     "name": "stdout",
     "output_type": "stream",
     "text": [
      "OrderedDict([('name', 'Somerville Public Library East Branch'), ('address', '115 Broadway, Somerville, MA 02145'), ('lat', 42.3879326), ('lng', -71.0835948)])\n",
      "OrderedDict([('name', 'Somerville Public Library West Branch'), ('address', '40 College Ave, Somerville, MA 02144'), ('lat', 42.3981483), ('lng', -71.1217138)])\n",
      "OrderedDict([('name', 'Somerville Public Library Central Branch'), ('address', '79 Highland Avenue, Somerville, MA 02143'), ('lat', 42.3857881), ('lng', -71.0944054)])\n"
     ]
    }
   ],
   "source": [
    "def geocode(in_file, address_field, out_file = False):\n",
    "    if out_file:\n",
    "        out_file = out_file\n",
    "    else:\n",
    "        out_file = os.path.splitext(in_file)[0] + '_geocode.csv'\n",
    "\n",
    "    try:\n",
    "        with open(in_file, 'r') as incsv:\n",
    "            # Open outputfile in write mode ('w')...\n",
    "            with open(out_file, 'w') as outcsv:\n",
    "                reader = csv.DictReader(incsv)\n",
    "                # Add lat and lng to existing fieldnames\n",
    "                field_names = reader.fieldnames + ['lat', 'lng']\n",
    "                # Create the writer DictWriter - we'll use this to write rows.\n",
    "                writer = csv.DictWriter(outcsv, field_names)\n",
    "                for line in reader:\n",
    "                    address = line['address'].strip()\n",
    "                    result = geocoder.geocode(address)\n",
    "                    if result and len(result):\n",
    "                        line['lat'] = result[0]['geometry']['lat']\n",
    "                        line['lng'] = result[0]['geometry']['lng']\n",
    "                    else:\n",
    "                        line['lat'] = None\n",
    "                        line['lng'] = None\n",
    "                    print(line)\n",
    "                    # Write geocoded row to output file.\n",
    "                    writer.writerow(line)\n",
    "    except FileNotFoundError:\n",
    "        print(f'{in_file} does not exist.')\n",
    "    except RateLimitExceededError as ex:\n",
    "        print(ex)\n",
    "\n",
    "geocode(in_file='som_lib.csv', address_field='address')"
   ]
  },
  {
   "cell_type": "markdown",
   "metadata": {},
   "source": [
    "## Extension 2: Rewrite Using Pandas"
   ]
  },
  {
   "cell_type": "code",
   "execution_count": 71,
   "metadata": {},
   "outputs": [
    {
     "name": "stdout",
     "output_type": "stream",
     "text": [
      "name       Somerville Public Library East Branch\n",
      "address       115 Broadway, Somerville, MA 02145\n",
      "lat                                      42.3879\n",
      "lng                                     -71.0836\n",
      "Name: 0, dtype: object\n",
      "name       Somerville Public Library East Branch\n",
      "address       115 Broadway, Somerville, MA 02145\n",
      "lat                                      42.3879\n",
      "lng                                     -71.0836\n",
      "Name: 0, dtype: object\n",
      "name       Somerville Public Library West Branch\n",
      "address     40 College Ave, Somerville, MA 02144\n",
      "lat                                      42.3981\n",
      "lng                                     -71.1217\n",
      "Name: 1, dtype: object\n",
      "name       Somerville Public Library Central Branch\n",
      "address    79 Highland Avenue, Somerville, MA 02143\n",
      "lat                                         42.3858\n",
      "lng                                        -71.0944\n",
      "Name: 2, dtype: object\n"
     ]
    }
   ],
   "source": [
    "import pandas as pd\n",
    "\n",
    "def geocode(row, query_field):\n",
    "    try:\n",
    "        address = row[query_field].strip()\n",
    "        result = geocoder.geocode(address)\n",
    "        if result and len(result):\n",
    "            row['lat'] = result[0]['geometry']['lat']\n",
    "            row['lng'] = result[0]['geometry']['lng']\n",
    "        else:\n",
    "            row['lat'] = None\n",
    "            row['lng'] = None\n",
    "        return(row)\n",
    "    except RateLimitExceededError as ex:\n",
    "        print(ex)\n",
    "        quit\n",
    "        \n",
    "def run(in_file, query_field, out_file=False):\n",
    "    if out_file:\n",
    "        out_file = out_file\n",
    "    else:\n",
    "        out_file = os.path.splitext(in_file)[0] + '_geocode.csv'\n",
    "    try:\n",
    "        df = pd.read_csv(in_file)\n",
    "        df = df.apply(lambda x: geocode(x, query_field), axis=1)\n",
    "        print(df)\n",
    "        df.to_csv(out_file)\n",
    "    except FileNotFoundError:\n",
    "        print(f'{in_file} does not exist.')\n",
    "\n",
    "run(in_file='som_lib.csv', query_field='address')"
   ]
  },
  {
   "cell_type": "markdown",
   "metadata": {},
   "source": [
    "## Extension 3: Write GeoJSON Using GeoPandas"
   ]
  },
  {
   "cell_type": "code",
   "execution_count": 77,
   "metadata": {},
   "outputs": [
    {
     "name": "stdout",
     "output_type": "stream",
     "text": [
      "                                       name  \\\n",
      "0     Somerville Public Library East Branch   \n",
      "1     Somerville Public Library West Branch   \n",
      "2  Somerville Public Library Central Branch   \n",
      "\n",
      "                                    address                    geometry  \n",
      "0        115 Broadway, Somerville, MA 02145  POINT (-71.08359 42.38793)  \n",
      "1      40 College Ave, Somerville, MA 02144  POINT (-71.12171 42.39815)  \n",
      "2  79 Highland Avenue, Somerville, MA 02143  POINT (-71.09441 42.38579)  \n"
     ]
    }
   ],
   "source": [
    "import pandas as pd\n",
    "import geopandas as gpd\n",
    "from shapely.geometry import Point\n",
    "\n",
    "def geocode(row, query_field):\n",
    "    try:\n",
    "        address = row[query_field].strip()\n",
    "        result = geocoder.geocode(address)\n",
    "        if result and len(result):\n",
    "            row['geometry'] = Point(result[0]['geometry']['lng'], result[0]['geometry']['lat'])\n",
    "        else:\n",
    "            row['geometry'] = None\n",
    "        return(row)\n",
    "    except RateLimitExceededError as ex:\n",
    "        print(ex)\n",
    "        quit\n",
    "        \n",
    "def run(in_file, query_field, out_file=False):\n",
    "    if out_file:\n",
    "        out_file = out_file\n",
    "    else:\n",
    "        out_file = os.path.splitext(in_file)[0] + '_geocode.geojson'\n",
    "    try:\n",
    "        df = pd.read_csv(in_file)\n",
    "        gdf = gpd.GeoDataFrame(\n",
    "            df.apply(lambda x: geocode(x, query_field), axis=1),\n",
    "            geometry='geometry'\n",
    "        )\n",
    "        print(gdf)\n",
    "        gdf.to_file(out_file, driver='GeoJSON')\n",
    "    except FileNotFoundError:\n",
    "        print(f'{in_file} does not exist.')\n",
    "\n",
    "run(in_file='som_lib.csv', query_field='address')"
   ]
  }
 ],
 "metadata": {
  "file_extension": ".py",
  "kernelspec": {
   "display_name": "Python 3.6.3 64-bit ('geocode': venv)",
   "language": "python",
   "name": "python36364bitgeocodevenv136c392ca4f0487996bd953e7f46e75c"
  },
  "language_info": {
   "codemirror_mode": {
    "name": "ipython",
    "version": 3
   },
   "file_extension": ".py",
   "mimetype": "text/x-python",
   "name": "python",
   "nbconvert_exporter": "python",
   "pygments_lexer": "ipython3",
   "version": "3.6.3"
  },
  "mimetype": "text/x-python",
  "name": "python",
  "npconvert_exporter": "python",
  "pygments_lexer": "ipython3",
  "version": 3
 },
 "nbformat": 4,
 "nbformat_minor": 2
}
