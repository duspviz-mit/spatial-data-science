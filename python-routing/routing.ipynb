{
 "cells": [
  {
   "cell_type": "markdown",
   "metadata": {},
   "source": [
    "# Building a Routing Application\n",
    "\n",
    "## [Data for this Exercise is Available Here](http://duspviz.mit.edu/resources/routing_resources.zip)\n",
    "\n",
    "\n",
    "In today's exercise, we're going to use OpenRouteServices, a free routing and network analysis service, run on open-source software. We have two tasks for the day: 1) to write Python code that will permit us to collect routes from one point to another, and 2) to write Python code that will permit us to collect isochrones for individual points based on transit mode. Isochrones are polygons that depict network distance---in other words, how far can I travel along a road network given a certain amount of time?\n",
    "\n",
    "As such, the first task is to get an [OpenRouteServices API key](https://openrouteservice.org/). The free plan is a bit constrained (500 isochrone requests per day, 2000 directions requests per day), but it will be totally fine for our purposes! Once you've created an account, copy your API key---you'll need it later!"
   ]
  },
  {
   "cell_type": "markdown",
   "metadata": {},
   "source": [
    "## Create a New Virtual Environment\n",
    "\n",
    "We begin by creating a new virtual environment for our routing work. As a reminder, a virtual environment is a self-contained Python environment, generally built to accommodate a specific project. We use these so that we're not endlessly installing pacakges into a single bloated environment; instead, we work only with those packages we need. \n",
    "\n",
    "First, we want to navigate to the folder to which we downloaded the exercise data. In a terminal (macOS/Linux) or command prompt (Windows) window type...\n",
    "\n",
    "```sh\n",
    "cd path/to/your/data/\n",
    "```\n",
    "\n",
    "Once you've changed your working directory, you'll want to create a new virtual environment using the `venv` utility, which is a module (hence, `-m`) of Python.\n",
    "\n",
    "```sh\n",
    "# Tells python 3 to run the venv module...\n",
    "# ...and create a new virtual environment...\n",
    "# ...in our current directory.\n",
    "python3 -m venv venv/\n",
    "\n",
    "# On Windows...\n",
    "python -m venv venv\\\n",
    "```\n",
    "\n",
    "We can activate this virtual environment by running the following at the terminal:\n",
    "\n",
    "```sh\n",
    "# On macOS or Linux...\n",
    ". venv/bin/activate\n",
    "# On Windows...\n",
    "venv\\Scripts\\activate.bat\n",
    "# The next line of your prompt should begin (venv)\n",
    "```\n",
    "\n",
    "Once we've activated our virtual environment, any packages we install will be specific to this environment---this is very useful for managing packages on a project-by-project basis. We're going to install the `openrouteservices` package, which is a fairly thin wrapper for the OpenRouteService API (by 'thin wrapper', I just mean that it provides convenience functions without contributing much in the way of added functionality). We're also going to install `python-dotenv` and `shapely`. The former allows us to store API keys and other secrets in a file that doesn't ever go anywhere near our git repository; we'll use the latter to store coordinates returned by OpenRouteService in what's called 'Well-Known Text'.\n",
    "\n",
    "```sh\n",
    "pip install openrouteservice jupyter python-dotenv shapely\n",
    "```"
   ]
  },
  {
   "cell_type": "markdown",
   "metadata": {},
   "source": [
    "## Import Modules\n",
    "\n",
    "Run Jupyter from inside your virtual environment like this:\n",
    "\n",
    "```sh\n",
    "python -m jupyter notebook\n",
    "```\n",
    "\n",
    "You can work directly from this Jupyter Notebook, or create your own (the latter is probably a better learning exercise---typing=muscle memory=retention). Either way, we first need to import the relevant `client` object from the `openrouteservice` library. We're also going to import `pprint`, a Python utility function that parses and 'prettifies' complex data output."
   ]
  },
  {
   "cell_type": "code",
   "execution_count": 1,
   "metadata": {},
   "outputs": [],
   "source": [
    "from openrouteservice import client\n",
    "from pprint import pprint"
   ]
  },
  {
   "cell_type": "markdown",
   "metadata": {},
   "source": [
    "Note the very classic Python syntax here---we're not importing entire libraries! We're only importing the modules we need. Python prides itself on being extremely modular. This makes for programs that run very quickly, as scripts spend less time loading unused modules.\n",
    "\n",
    "## Set up the OpenRouteService client\n",
    "\n",
    "We'll then create a new instance of the OpenRouteService client object; in order to do this, we need to use the API key that we were given when we created a new OpenRouteService account. But we want to do this in a way that prevents others from finding our key. In modern programming, a surprising amount of work takes place in public in, for example, git repositories (e.g., [Github](https://github.com/), [Gitlab](https://gitlab.com/)). Your goal should be to __NEVER COMMIT YOUR KEY__ to your public repository. This means writing your code such that the key is read in from what's called an 'environment variable', instead of hard-coding it into your scripts.\n",
    "\n",
    "### Store Your API key in an Environment Variable\n",
    "\n",
    "The easiest way to store an environment variable is to create a new file called simply `.env` in your project directory and use a nifty package called `python-dotenv` to load your variables. If you're using a git repository, make sure you add `.env` to your `.gitignore` file!\n",
    "\n",
    "Create a new `.env` file in your working directory that includes this line:\n",
    "\n",
    "```sh\n",
    "OSRKEY=yourapikey\n",
    "```\n",
    "\n",
    "Once you've set the environment variable, reading it in a Python script becomes fairly trivial:"
   ]
  },
  {
   "cell_type": "code",
   "execution_count": 42,
   "metadata": {},
   "outputs": [],
   "source": [
    "import os\n",
    "from dotenv import load_dotenv\n",
    "load_dotenv()\n",
    "\n",
    "osrkey = os.getenv('ORSKEY')"
   ]
  },
  {
   "cell_type": "markdown",
   "metadata": {},
   "source": [
    "## Get a Single Route\n",
    "\n",
    "We'll first create an instance of the OpenRouteService client object. You will simply pass your `osrkey` variable to its `key` parameter, like so:"
   ]
  },
  {
   "cell_type": "code",
   "execution_count": 40,
   "metadata": {},
   "outputs": [],
   "source": [
    "ors = client.Client(key=osrkey)"
   ]
  },
  {
   "cell_type": "markdown",
   "metadata": {},
   "source": [
    "Now, let's run a query. The MBTA is currently in the process of extending the Green Line into Union Square and, along a separate spur, into Medford. Say we want to know how accessible the new Union Square stop (`[-71.094038, 42.378790]`) will be to students at the Argenziano School (`[-71.099530, 42.379235]`) in Somerville.\n",
    "\n",
    "We'll do this by passing a set of `kwargs` to the `directions` method of our client object (`ors`) using a Python dictionary. The OpenRouteService API is very well-documented; [you can find an inclusive list of all parameters that it accepts here](https://openrouteservice.org/dev/#/api-docs/directions). We want to know what the fastest route is between the Argenziano School and the T station, assuming that we are on foot. We also pass a parameter that requests a GeoJSON formatted output."
   ]
  },
  {
   "cell_type": "code",
   "execution_count": 43,
   "metadata": {},
   "outputs": [
    {
     "name": "stdout",
     "output_type": "stream",
     "text": [
      "{'bbox': [-71.099533, 42.378807, -71.09427, 42.379696],\n",
      " 'features': [{'bbox': [-71.099533, 42.378807, -71.09427, 42.379696],\n",
      "               'geometry': {'coordinates': [[-71.099533, 42.379329],\n",
      "                                            [-71.099521, 42.379329],\n",
      "                                            [-71.099463, 42.379329],\n",
      "                                            [-71.099292, 42.379341],\n",
      "                                            [-71.098867, 42.379389],\n",
      "                                            [-71.098639, 42.379412],\n",
      "                                            [-71.098508, 42.379426],\n",
      "                                            [-71.098436, 42.379434],\n",
      "                                            [-71.097975, 42.379475],\n",
      "                                            [-71.097894, 42.379483],\n",
      "                                            [-71.097696, 42.379503],\n",
      "                                            [-71.097427, 42.37953],\n",
      "                                            [-71.097253, 42.379547],\n",
      "                                            [-71.096976, 42.379575],\n",
      "                                            [-71.096875, 42.379585],\n",
      "                                            [-71.096502, 42.379626],\n",
      "                                            [-71.096387, 42.379635],\n",
      "                                            [-71.096196, 42.37966],\n",
      "                                            [-71.09595, 42.37968],\n",
      "                                            [-71.09577, 42.379696],\n",
      "                                            [-71.095679, 42.379681],\n",
      "                                            [-71.095567, 42.379648],\n",
      "                                            [-71.095205, 42.379501],\n",
      "                                            [-71.095166, 42.379485],\n",
      "                                            [-71.095061, 42.379446],\n",
      "                                            [-71.094426, 42.379214],\n",
      "                                            [-71.094338, 42.379181],\n",
      "                                            [-71.094401, 42.379081],\n",
      "                                            [-71.094499, 42.37893],\n",
      "                                            [-71.094463, 42.378889],\n",
      "                                            [-71.094381, 42.378835],\n",
      "                                            [-71.094321, 42.378807],\n",
      "                                            [-71.09427, 42.37888]],\n",
      "                            'type': 'LineString'},\n",
      "               'properties': {'summary': {'distance': 0.503, 'duration': 362.3},\n",
      "                              'way_points': [0, 32]},\n",
      "               'type': 'Feature'}],\n",
      " 'metadata': {'attribution': 'openrouteservice.org | OpenStreetMap '\n",
      "                             'contributors',\n",
      "              'engine': {'build_date': '2020-01-16T14:29:52Z',\n",
      "                         'graph_date': '0000-00-00T00:00:00Z',\n",
      "                         'version': '6.0.0'},\n",
      "              'query': {'coordinates': [[-71.09953, 42.379235],\n",
      "                                        [-71.094038, 42.37879]],\n",
      "                        'format': 'geojson',\n",
      "                        'profile': 'foot-walking',\n",
      "                        'units': 'km'},\n",
      "              'service': 'routing',\n",
      "              'timestamp': 1583964181433},\n",
      " 'type': 'FeatureCollection'}\n"
     ]
    }
   ],
   "source": [
    "params = {'coordinates': [[-71.099530, 42.379235], \n",
    "                        [-71.094038, 42.378790]],\n",
    "          'profile': 'foot-walking',\n",
    "          'instructions': 'false',\n",
    "          'format_out': 'geojson',\n",
    "          'units': 'km'}\n",
    "try:\n",
    "    route = ors.directions(**params)\n",
    "    pprint(route)\n",
    "except Exception as err:\n",
    "    pprint(err)"
   ]
  },
  {
   "cell_type": "markdown",
   "metadata": {},
   "source": [
    "The API returns a LineString detailing the route, alongside some metadata. Because this is already a GeoJSON file, we can simply write the result as a variable using the `dump` method from the `json` library."
   ]
  },
  {
   "cell_type": "code",
   "execution_count": null,
   "metadata": {},
   "outputs": [],
   "source": [
    "import json\n",
    "\n",
    "json.dump(route, open('single_route.geojson', 'w'))"
   ]
  },
  {
   "cell_type": "markdown",
   "metadata": {},
   "source": [
    "## Single Isochrone\n",
    "\n",
    "In addition to returning routes, OpenRouteService can return what are called _isochrones_, or bounded areas accessible within a certain amount of time or less. This of course makes many assumptions about the mobility of the traveler, but it is nevertheless a useful metric.\n",
    "\n",
    "We query for an isochrone in much the same way as we query for directions. Here, we are requesting the area accessible within 10 minutes (600 seconds) on foot from the new Green Line station in Union Square. Much like above, the isochrone service is well-documented, and I encourage you to spend some time [combing through the available parameters in the documentation](https://openrouteservice.org/dev/#/api-docs/v2/isochrones/{profile}/post)."
   ]
  },
  {
   "cell_type": "code",
   "execution_count": 41,
   "metadata": {},
   "outputs": [
    {
     "name": "stdout",
     "output_type": "stream",
     "text": [
      "{'bbox': [-71.10367, 42.371606, -71.085581, 42.385323],\n",
      " 'features': [{'geometry': {'coordinates': [[[-71.10367, 42.379126],\n",
      "                                             [-71.103646, 42.378891],\n",
      "                                             [-71.102889, 42.375047],\n",
      "                                             [-71.102674, 42.374759],\n",
      "                                             [-71.099021, 42.372008],\n",
      "                                             [-71.095982, 42.371616],\n",
      "                                             [-71.095011, 42.371606],\n",
      "                                             [-71.094304, 42.371807],\n",
      "                                             [-71.092831, 42.372513],\n",
      "                                             [-71.088276, 42.374202],\n",
      "                                             [-71.085756, 42.375166],\n",
      "                                             [-71.085592, 42.375486],\n",
      "                                             [-71.085581, 42.377326],\n",
      "                                             [-71.08585, 42.377616],\n",
      "                                             [-71.086119, 42.377906],\n",
      "                                             [-71.088326, 42.380758],\n",
      "                                             [-71.089563, 42.383429],\n",
      "                                             [-71.089606, 42.383473],\n",
      "                                             [-71.091165, 42.384454],\n",
      "                                             [-71.093006, 42.385323],\n",
      "                                             [-71.095251, 42.38505],\n",
      "                                             [-71.100273, 42.384497],\n",
      "                                             [-71.102611, 42.382378],\n",
      "                                             [-71.10367, 42.379126]]],\n",
      "                            'type': 'Polygon'},\n",
      "               'properties': {'center': [-71.09427023357581,\n",
      "                                         42.378879702066165],\n",
      "                              'group_index': 0,\n",
      "                              'value': 600.0},\n",
      "               'type': 'Feature'}],\n",
      " 'metadata': {'attribution': 'openrouteservice.org | OpenStreetMap '\n",
      "                             'contributors',\n",
      "              'engine': {'build_date': '2020-01-16T14:29:52Z',\n",
      "                         'version': '6.0.0'},\n",
      "              'query': {'locations': [[-71.094038, 42.37879]],\n",
      "                        'range': [600.0],\n",
      "                        'range_type': 'time'},\n",
      "              'service': 'isochrones',\n",
      "              'timestamp': 1583961504831},\n",
      " 'type': 'FeatureCollection'}\n"
     ]
    }
   ],
   "source": [
    "params = {'locations': [[-71.094038, 42.378790]],\n",
    "              'profile': 'foot-walking',\n",
    "              'range_type': 'time',\n",
    "              'range': [600]}\n",
    "\n",
    "try:\n",
    "    request = ors.isochrones(**params)\n",
    "    pprint(request)\n",
    "except Exception as err:\n",
    "    pprint(err)\n",
    "    "
   ]
  },
  {
   "cell_type": "markdown",
   "metadata": {},
   "source": [
    "By default, this request returns a GeoJSON. This implies, again, that we can simply write the single request to a GeoJSON for use in e.g., QGIS."
   ]
  },
  {
   "cell_type": "code",
   "execution_count": null,
   "metadata": {},
   "outputs": [],
   "source": [
    "json.dump(request, open('single_isochrone.geojson', 'w'))"
   ]
  },
  {
   "cell_type": "markdown",
   "metadata": {},
   "source": [
    "## Isochrones for Many Features\n",
    "\n",
    "However, the above exercises are fairly trivial. Services like OpenRouteService become vastly more useful when we are able to do work in batches. This is fairly simple. The method below will approach this problem using only CSVs and (nearly) bare-minimum Python. No fancy or bloated libraries here!\n",
    "\n",
    "We'll begin by simply reading the file I provided, `camberville_t.csv`. This is the location of curent T stops in Cambridge and Somerville from MassGIS; I've extended it to also include the planned Green Line Extension stops (which means that technically, the file includes a stop in Medford as well). Let's first make sure we are comfortable looping through rows in a CSV file; our approach will be to loop through and, for each feature, produce as isochrone that we append as a geometry!\n",
    "\n",
    "We `open` our file in read mode (`'r'`). We then use the DictReader csv method to read the CSV as a Python dictionary.  We then iterate through its lines printing the values stored in the `STATION` column. Why do this instead of simply looping through rows? Good question! Because I like the ability to reference columns by name, which requires that we represent the CSV in a way that gives us access to headers. We could also do this using, for example, Pandas dataframes. But I'm trying to keep this as simple as possible."
   ]
  },
  {
   "cell_type": "code",
   "execution_count": 28,
   "metadata": {},
   "outputs": [
    {
     "name": "stdout",
     "output_type": "stream",
     "text": [
      "Harvard\n",
      "Kendall/MIT\n",
      "Davis\n",
      "Sullivan Square\n",
      "Community College\n",
      "Lechmere\n",
      "Alewife\n",
      "Porter\n",
      "Central\n",
      "Assembly\n",
      "Union Square\n",
      "East Somerville\n",
      "Gilman Square\n",
      "Magoun Square\n",
      "Ball Square\n",
      "College Ave\n"
     ]
    }
   ],
   "source": [
    "# Import the csv library.\n",
    "import csv\n",
    "\n",
    "# Provide the location of the CSV file.\n",
    "mbta_locs = 'camberville_t.csv'\n",
    "\n",
    "# Open the file...\n",
    "try:\n",
    "    with open(mbta_locs, 'r') as file:\n",
    "        # ...and read its contents as a dictionary.\n",
    "        reader = csv.DictReader(file)\n",
    "        # Iterate over the CSV rows...\n",
    "        for line in reader:\n",
    "            # ...and print the value of the 'STATION' column.\n",
    "            print(line['STATION'])\n",
    "except FileNotFoundError:\n",
    "    print(f'{mbta_locs} does not exist')"
   ]
  },
  {
   "cell_type": "markdown",
   "metadata": {},
   "source": [
    "We then want to use the parameter dictionary, just like above. This time, though, we're going to give it `X` and `Y` values stored in our CSV. Note that we also sleep for a little more than a second---this is because there's a rate limit on the API, and if we go too quickly, we'll get booted! We also assign the resulting geometry to the `geom` column of the CSV line---specifically, we use the `shapely` library to convert it to well-known text (WKT)."
   ]
  },
  {
   "cell_type": "code",
   "execution_count": 45,
   "metadata": {},
   "outputs": [
    {
     "name": "stdout",
     "output_type": "stream",
     "text": [
      "POLYGON ((-71.127904 42.374359, -71.127782 42.373757, -71.125147 42.368848, -71.124554 42.367938, -71.12429899999999 42.367684, -71.124137 42.367646, -71.123227 42.367732, -71.12224000000001 42.367897, -71.11667799999999 42.368036, -71.113326 42.368682, -71.111403 42.369224, -71.110163 42.370778, -71.110068 42.371126, -71.110195 42.375125, -71.11038600000001 42.377288, -71.110421 42.377425, -71.110427 42.377444, -71.110517 42.377679, -71.11171899999999 42.37827, -71.11555300000001 42.379995, -71.11627 42.380325, -71.119641 42.381553, -71.12 42.381587, -71.12463700000001 42.37988, -71.125452 42.379515, -71.127168 42.376799, -71.12788 42.374718, -71.127904 42.374359))\n",
      "POLYGON ((-71.09629200000001 42.362991, -71.095298 42.360193, -71.095107 42.359828, -71.093642 42.358833, -71.09102799999999 42.357668, -71.0902 42.357616, -71.09001499999999 42.357632, -71.088888 42.358009, -71.08776 42.358386, -71.086803 42.358714, -71.08356499999999 42.359972, -71.08008 42.360486, -71.075638 42.361224, -71.075586 42.36145, -71.075559 42.361809, -71.07872 42.365341, -71.07988 42.366989, -71.08051500000001 42.367778, -71.080628 42.367895, -71.080889 42.368143, -71.08565 42.368759, -71.08864 42.367915, -71.09244099999999 42.36707, -71.09262200000001 42.366969, -71.093396 42.366513, -71.096266 42.36335, -71.09629200000001 42.362991))\n",
      "POLYGON ((-71.13209500000001 42.397648, -71.1319 42.397081, -71.13071600000001 42.393862, -71.130537 42.393549, -71.12932600000001 42.39213, -71.127785 42.391158, -71.12249199999999 42.390391, -71.120767 42.390232, -71.117734 42.390101, -71.115861 42.391346, -71.113878 42.392655, -71.112422 42.394173, -71.112337 42.394523, -71.11302499999999 42.395472, -71.114706 42.400945, -71.115092 42.401853, -71.115284 42.402157, -71.11603100000001 42.40278, -71.12052799999999 42.402967, -71.12255399999999 42.402858, -71.12674699999999 42.4032, -71.126829 42.403194, -71.127179 42.403142, -71.12741 42.402954, -71.13163299999999 42.398705, -71.131742 42.398541, -71.13207 42.398007, -71.13209500000001 42.397648))\n",
      "POLYGON ((-71.082824 42.387164, -71.082258 42.382101, -71.082199 42.381746, -71.080613 42.380874, -71.07957399999999 42.380839, -71.07430600000001 42.379761, -71.073475 42.379551, -71.07100800000001 42.378976, -71.070699 42.379161, -71.06809699999999 42.381472, -71.06793399999999 42.381793, -71.06762500000001 42.38352, -71.067718 42.384233, -71.06809800000001 42.384901, -71.07117100000001 42.389258, -71.07148100000001 42.389441, -71.07705 42.390468, -71.07741 42.390454, -71.078317 42.39018, -71.081163 42.389144, -71.082712 42.387506, -71.082824 42.387164))\n",
      "POLYGON ((-71.073746 42.370453, -71.07356799999999 42.369295, -71.073441 42.369088, -71.073384 42.369063, -71.07331499999999 42.369035, -71.073081 42.368946, -71.073031 42.36896, -71.07074799999999 42.370217, -71.064876 42.369633, -71.06479299999999 42.369599, -71.061691 42.370602, -71.061508 42.370912, -71.061497 42.371125, -71.06236 42.376321, -71.062527 42.3766, -71.06284100000001 42.377089, -71.063123 42.377313, -71.064404 42.378014, -71.065555 42.37799, -71.067215 42.377915, -71.07156000000001 42.38087, -71.07186900000001 42.380686, -71.07262900000001 42.379397, -71.072986 42.376143, -71.073746 42.370453))\n"
     ]
    },
    {
     "ename": "KeyboardInterrupt",
     "evalue": "",
     "output_type": "error",
     "traceback": [
      "\u001b[0;31m---------------------------------------------------------------------------\u001b[0m",
      "\u001b[0;31mKeyboardInterrupt\u001b[0m                         Traceback (most recent call last)",
      "\u001b[0;32m<ipython-input-45-1a2727a42e06>\u001b[0m in \u001b[0;36m<module>\u001b[0;34m\u001b[0m\n\u001b[1;32m     24\u001b[0m                 \u001b[0mline\u001b[0m\u001b[0;34m[\u001b[0m\u001b[0;34m'geom'\u001b[0m\u001b[0;34m]\u001b[0m \u001b[0;34m=\u001b[0m \u001b[0mshape\u001b[0m\u001b[0;34m(\u001b[0m\u001b[0mrequest\u001b[0m\u001b[0;34m[\u001b[0m\u001b[0;34m'features'\u001b[0m\u001b[0;34m]\u001b[0m\u001b[0;34m[\u001b[0m\u001b[0;36m0\u001b[0m\u001b[0;34m]\u001b[0m\u001b[0;34m[\u001b[0m\u001b[0;34m'geometry'\u001b[0m\u001b[0;34m]\u001b[0m\u001b[0;34m)\u001b[0m\u001b[0;34m.\u001b[0m\u001b[0mwkt\u001b[0m\u001b[0;34m\u001b[0m\u001b[0m\n\u001b[1;32m     25\u001b[0m                 \u001b[0mprint\u001b[0m\u001b[0;34m(\u001b[0m\u001b[0mline\u001b[0m\u001b[0;34m[\u001b[0m\u001b[0;34m'geom'\u001b[0m\u001b[0;34m]\u001b[0m\u001b[0;34m)\u001b[0m\u001b[0;34m\u001b[0m\u001b[0m\n\u001b[0;32m---> 26\u001b[0;31m                 \u001b[0msleep\u001b[0m\u001b[0;34m(\u001b[0m\u001b[0;36m1.25\u001b[0m\u001b[0;34m)\u001b[0m\u001b[0;34m\u001b[0m\u001b[0m\n\u001b[0m\u001b[1;32m     27\u001b[0m             \u001b[0;32mexcept\u001b[0m \u001b[0mException\u001b[0m \u001b[0;32mas\u001b[0m \u001b[0merr\u001b[0m\u001b[0;34m:\u001b[0m\u001b[0;34m\u001b[0m\u001b[0m\n\u001b[1;32m     28\u001b[0m                 \u001b[0mpprint\u001b[0m\u001b[0;34m(\u001b[0m\u001b[0merr\u001b[0m\u001b[0;34m)\u001b[0m\u001b[0;34m\u001b[0m\u001b[0m\n",
      "\u001b[0;31mKeyboardInterrupt\u001b[0m: "
     ]
    }
   ],
   "source": [
    "import csv\n",
    "from shapely.geometry import shape\n",
    "from time import sleep\n",
    "\n",
    "# Provide the location of the CSV file.\n",
    "mbta_locs = 'camberville_t.csv'\n",
    "\n",
    "# Open the file...\n",
    "try:\n",
    "    with open(mbta_locs, 'r') as infile:\n",
    "        # ...and read its contents as a dictionary.\n",
    "        reader = csv.DictReader(infile)\n",
    "        # Iterate over the CSV rows...\n",
    "        for line in reader:\n",
    "            params = {'locations': [[line['X'], line['Y']]],\n",
    "                          'profile': 'foot-walking',\n",
    "                          'range_type': 'time',\n",
    "                          'range': [600],\n",
    "                          'smoothing': 10}\n",
    "            try:\n",
    "                request = ors.isochrones(**params)\n",
    "                line['geom'] = shape(request['features'][0]['geometry']).wkt\n",
    "                print(line['geom'])\n",
    "                sleep(2)\n",
    "            except Exception as err:\n",
    "                pprint(err)\n",
    "except FileNotFoundError:\n",
    "    print(f'{mbta_locs} does not exist')"
   ]
  },
  {
   "cell_type": "markdown",
   "metadata": {},
   "source": [
    "However, we're still not writing the results out---below, we open an output file, create it with the same columns as the input with an addition `geom` column, write the headers to the output file, and write each row to the output. Kudos! You've built an isochrone tool that returns a CSV storing the isochrone geoemtries as Well-Known Text (WKT). QGIS can interpret this easily, as can PostGIS and other GISystems."
   ]
  },
  {
   "cell_type": "code",
   "execution_count": null,
   "metadata": {},
   "outputs": [],
   "source": [
    "import csv\n",
    "from shapely.geometry import shape\n",
    "from time import sleep\n",
    "\n",
    "# Provide the location of the CSV file.\n",
    "mbta_locs = 'camberville_t.csv'\n",
    "out_file = 'camberville_t_iso.csv'\n",
    "\n",
    "# Open the file...\n",
    "try:\n",
    "    with open(mbta_locs, 'r') as infile:\n",
    "        with open(out_file, 'w') as outcsv:\n",
    "            # ...and read its contents as a dictionary.\n",
    "            reader = csv.DictReader(infile)\n",
    "            field_names = reader.fieldnames + ['geom']\n",
    "            writer = csv.DictWriter(outcsv, field_names)\n",
    "            writer.writeheader()\n",
    "            # Iterate over the CSV rows...\n",
    "            for line in reader:\n",
    "                params = {'locations': [[line['X'], line['Y']]],\n",
    "                              'profile': 'foot-walking',\n",
    "                              'range_type': 'time',\n",
    "                              'range': [600],\n",
    "                              'smoothing': 10}\n",
    "                try:\n",
    "                    request = ors.isochrones(**params)\n",
    "                    line['geom'] = shape(request['features'][0]['geometry']).wkt\n",
    "                    sleep(2)\n",
    "                    writer.writerow(line)\n",
    "                except Exception as err:\n",
    "                    pprint(err)\n",
    "except FileNotFoundError:\n",
    "    print(f'{mbta_locs} does not exist')"
   ]
  }
 ],
 "metadata": {
  "file_extension": ".py",
  "kernelspec": {
   "display_name": "Python 3.6.3 64-bit ('geocode': venv)",
   "language": "python",
   "name": "python36364bitgeocodevenv136c392ca4f0487996bd953e7f46e75c"
  },
  "language_info": {
   "codemirror_mode": {
    "name": "ipython",
    "version": 3
   },
   "file_extension": ".py",
   "mimetype": "text/x-python",
   "name": "python",
   "nbconvert_exporter": "python",
   "pygments_lexer": "ipython3",
   "version": "3.6.3"
  },
  "mimetype": "text/x-python",
  "name": "python",
  "npconvert_exporter": "python",
  "pygments_lexer": "ipython3",
  "version": 3
 },
 "nbformat": 4,
 "nbformat_minor": 2
}
